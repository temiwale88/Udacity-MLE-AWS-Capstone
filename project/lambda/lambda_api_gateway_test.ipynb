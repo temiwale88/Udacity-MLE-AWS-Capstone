{
 "cells": [
  {
   "cell_type": "code",
   "execution_count": 1,
   "metadata": {},
   "outputs": [],
   "source": [
    "import boto3\n",
    "s3 = boto3.client('s3')\n",
    "bucket = 'sagemaker-us-east-1-328945632120'"
   ]
  },
  {
   "cell_type": "code",
   "execution_count": 24,
   "metadata": {},
   "outputs": [],
   "source": [
    "file_name = 'lab.jpg'\n",
    "key = \"streamlit-images\"\n",
    "key_name = f\"{key}/dogImage.jpg\"\n",
    "s3.upload_file(file_name, bucket, key_name)"
   ]
  },
  {
   "cell_type": "code",
   "execution_count": 3,
   "metadata": {},
   "outputs": [
    {
     "data": {
      "text/plain": [
       "'https://sagemaker-us-east-1-328945632120.s3.amazonaws.com/streamlit-images/dogImage.jpg'"
      ]
     },
     "execution_count": 3,
     "metadata": {},
     "output_type": "execute_result"
    }
   ],
   "source": [
    "url = f\"https://{bucket}.s3.amazonaws.com/{key_name}\"\n",
    "url"
   ]
  },
  {
   "cell_type": "markdown",
   "metadata": {},
   "source": [
    "Call to API Gateway + Lambda integration"
   ]
  },
  {
   "cell_type": "code",
   "execution_count": 4,
   "metadata": {},
   "outputs": [],
   "source": [
    "# See here and here: AWS Docs: https://go.aws/3OgruOf [AND] Data Science Garage: https://bit.ly/3HkXpem\n",
    "import json\n",
    "import requests"
   ]
  },
  {
   "cell_type": "code",
   "execution_count": 5,
   "metadata": {},
   "outputs": [],
   "source": [
    "\n",
    "api_url = \"https://q5giae49dd.execute-api.us-east-1.amazonaws.com/dev/predictdogimages\"\n",
    "headers = {'Content-type': 'application/json'}"
   ]
  },
  {
   "cell_type": "code",
   "execution_count": 6,
   "metadata": {},
   "outputs": [
    {
     "data": {
      "text/plain": [
       "'https://sagemaker-us-east-1-328945632120.s3.amazonaws.com/streamlit-images/dogImage.jpg'"
      ]
     },
     "execution_count": 6,
     "metadata": {},
     "output_type": "execute_result"
    }
   ],
   "source": [
    "url"
   ]
  },
  {
   "cell_type": "markdown",
   "metadata": {},
   "source": [
    "Note:  \n",
    "You have to add a specific **\"Bucket policy** to allow public access just for that folder: \n",
    "```{\n",
    "    \"Version\": \"2012-10-17\",\n",
    "    \"Statement\": [\n",
    "        {\n",
    "            \"Effect\": \"Allow\",\n",
    "            \"Principal\": \"*\",\n",
    "            \"Action\": \"s3:GetObject\",\n",
    "            \"Resource\": \"arn:aws:s3:::sagemaker-us-east-1-XXXXXXXX/streamlit-images/*\"\n",
    "        }\n",
    "    ]\n",
    "}```\n"
   ]
  },
  {
   "cell_type": "code",
   "execution_count": 23,
   "metadata": {},
   "outputs": [
    {
     "name": "stdout",
     "output_type": "stream",
     "text": [
      "{'statusCode': 200, 'headers': {'Content-Type': 'text/plain', 'Access-Control-Allow-Origin': '*'}, 'type-result': \"<class 'str'>\", 'Content-Type-In': '<__main__.LambdaContext object at 0x7f6cd6e12220>', 'body': '{\"first_confidence\": 3.2668001651763916, \"first_predicted_dog\": \"Chesapeake bay retriever\", \"second_confidence\": 3.2536046504974365, \"second_predicted_dog\": \"Labrador retriever\"}'}\n"
     ]
    }
   ],
   "source": [
    "# payload = json.dumps({\n",
    "#   \"url\": \"https://upload.wikimedia.org/wikipedia/commons/thumb/5/5d/Italian_Greyhound_standing_gray_%28cropped%29.jpg/1200px-Italian_Greyhound_standing_gray_%28cropped%29.jpg\"\n",
    "# })\n",
    "payload = json.dumps({\n",
    "  \"url\": url\n",
    "})\n",
    "\n",
    "r = requests.post(url=api_url, data=payload, headers=headers)\n",
    "print(r.json())"
   ]
  },
  {
   "cell_type": "code",
   "execution_count": 11,
   "metadata": {},
   "outputs": [
    {
     "name": "stdout",
     "output_type": "stream",
     "text": [
      "3.2668001651763916 Chesapeake bay retriever\n",
      "3.2536046504974365 Labrador retriever\n"
     ]
    }
   ],
   "source": [
    "response = json.loads(r.json()['body'])\n",
    "print(response['first_confidence'], response['first_predicted_dog'])\n",
    "print(response['second_confidence'], response['second_predicted_dog'])"
   ]
  },
  {
   "cell_type": "code",
   "execution_count": null,
   "metadata": {},
   "outputs": [],
   "source": []
  }
 ],
 "metadata": {
  "interpreter": {
   "hash": "1cca9558bc5ad879ec93cc030b157d75f18267527c60932cecaace349eef54dd"
  },
  "kernelspec": {
   "display_name": "Python 3.7.6 ('base')",
   "language": "python",
   "name": "python3"
  },
  "language_info": {
   "codemirror_mode": {
    "name": "ipython",
    "version": 3
   },
   "file_extension": ".py",
   "mimetype": "text/x-python",
   "name": "python",
   "nbconvert_exporter": "python",
   "pygments_lexer": "ipython3",
   "version": "3.7.6"
  },
  "orig_nbformat": 4
 },
 "nbformat": 4,
 "nbformat_minor": 2
}
